{
 "cells": [
  {
   "cell_type": "code",
   "execution_count": 1,
   "metadata": {},
   "outputs": [],
   "source": [
    "%matplotlib inline\n",
    "import warnings\n",
    "warnings.filterwarnings(\"ignore\")\n",
    "\n",
    "import sqlite3\n",
    "import pandas as pd\n",
    "import numpy as np\n",
    "import nltk\n",
    "import string\n",
    "import matplotlib.pyplot as plt\n",
    "import seaborn as sns\n",
    "from sklearn.feature_extraction.text import TfidfTransformer\n",
    "from sklearn.feature_extraction.text import TfidfVectorizer\n",
    "\n",
    "from sklearn.feature_extraction.text import CountVectorizer\n",
    "from sklearn.metrics import confusion_matrix\n",
    "from sklearn import metrics\n",
    "from sklearn.metrics import roc_curve, auc\n",
    "from nltk.stem.porter import PorterStemmer\n",
    "\n",
    "import re\n",
    "import string\n",
    "from nltk.corpus import stopwords\n",
    "from nltk.stem import PorterStemmer\n",
    "from nltk.stem.wordnet import WordNetLemmatizer\n",
    "\n",
    "\n",
    "import pickle\n",
    "from tqdm import tqdm\n",
    "import os\n",
    "from collections import Counter"
   ]
  },
  {
   "cell_type": "code",
   "execution_count": 2,
   "metadata": {},
   "outputs": [
    {
     "name": "stdout",
     "output_type": "stream",
     "text": [
      "Shape of Train data  (182080, 16)\n",
      "Shape of Train data  (1541272, 4)\n",
      "----------------------------------------------------------------------------------------------------\n",
      "The attributes in Resources_data are as folows    ->   ->   ->   ->   ->  ['id' 'description' 'quantity' 'price']\n",
      "The attributes in Project_data are as folows    ->    ->    ->    ->    ->   ['id' 'teacher_id' 'teacher_prefix' 'school_state'\n",
      " 'project_submitted_datetime' 'project_grade_category'\n",
      " 'project_subject_categories' 'project_subject_subcategories'\n",
      " 'project_title' 'project_essay_1' 'project_essay_2' 'project_essay_3'\n",
      " 'project_essay_4' 'project_resource_summary'\n",
      " 'teacher_number_of_previously_posted_projects' 'project_is_approved']\n"
     ]
    }
   ],
   "source": [
    "Project_data = pd.read_csv(\"train.csv\")\n",
    "Resources_data = pd.read_csv(\"resources.csv\")\n",
    "print(\"Shape of Train data \",Project_data.shape)\n",
    "print(\"Shape of Train data \",Resources_data.shape)\n",
    "print(\"-\"*100)\n",
    "print(\"The attributes in Resources_data are as folows \" , \"  -> \"*5,Resources_data.columns.values)\n",
    "print(\"The attributes in Project_data are as folows \" , \"  ->  \"*5,Project_data.columns.values)\n"
   ]
  },
  {
   "cell_type": "code",
   "execution_count": 3,
   "metadata": {},
   "outputs": [
    {
     "data": {
      "text/html": [
       "<div>\n",
       "<style scoped>\n",
       "    .dataframe tbody tr th:only-of-type {\n",
       "        vertical-align: middle;\n",
       "    }\n",
       "\n",
       "    .dataframe tbody tr th {\n",
       "        vertical-align: top;\n",
       "    }\n",
       "\n",
       "    .dataframe thead th {\n",
       "        text-align: right;\n",
       "    }\n",
       "</style>\n",
       "<table border=\"1\" class=\"dataframe\">\n",
       "  <thead>\n",
       "    <tr style=\"text-align: right;\">\n",
       "      <th></th>\n",
       "      <th>id</th>\n",
       "      <th>teacher_id</th>\n",
       "      <th>teacher_prefix</th>\n",
       "      <th>school_state</th>\n",
       "      <th>project_grade_category</th>\n",
       "      <th>project_subject_categories</th>\n",
       "      <th>project_subject_subcategories</th>\n",
       "      <th>project_title</th>\n",
       "      <th>project_essay_1</th>\n",
       "      <th>project_essay_2</th>\n",
       "      <th>project_essay_3</th>\n",
       "      <th>project_essay_4</th>\n",
       "      <th>project_resource_summary</th>\n",
       "      <th>teacher_number_of_previously_posted_projects</th>\n",
       "      <th>project_is_approved</th>\n",
       "      <th>Date</th>\n",
       "    </tr>\n",
       "  </thead>\n",
       "  <tbody>\n",
       "    <tr>\n",
       "      <th>128730</th>\n",
       "      <td>p146022</td>\n",
       "      <td>f91a89d2b72a0f5ee14cd98bd8741fc2</td>\n",
       "      <td>Ms.</td>\n",
       "      <td>CA</td>\n",
       "      <td>Grades 6-8</td>\n",
       "      <td>Math &amp; Science</td>\n",
       "      <td>Applied Sciences</td>\n",
       "      <td>Robotics and Programming</td>\n",
       "      <td>I love giving my students experiences. A new e...</td>\n",
       "      <td>My students can vary quite dramatically. I hav...</td>\n",
       "      <td>The student will use the Sparki Robots to lear...</td>\n",
       "      <td>The Sparki robots would add a motivation for t...</td>\n",
       "      <td>My students need four Sparki robots to help st...</td>\n",
       "      <td>30</td>\n",
       "      <td>1</td>\n",
       "      <td>2016-04-27 00:03:38</td>\n",
       "    </tr>\n",
       "    <tr>\n",
       "      <th>173035</th>\n",
       "      <td>p244738</td>\n",
       "      <td>64ef8a335f7206366c52c39f5bfd09b7</td>\n",
       "      <td>Ms.</td>\n",
       "      <td>TX</td>\n",
       "      <td>Grades PreK-2</td>\n",
       "      <td>Literacy &amp; Language, Math &amp; Science</td>\n",
       "      <td>Foreign Languages, Mathematics</td>\n",
       "      <td>Help Us Finish Our 1st Year In School!</td>\n",
       "      <td>We are getting closer to the end of the year, ...</td>\n",
       "      <td>Welcome to our Pre-K classroom. We work hard e...</td>\n",
       "      <td>This time, I am asking to improve three differ...</td>\n",
       "      <td>This project will have a huge impact on my stu...</td>\n",
       "      <td>My students need Linking Letter Monkeys and Sp...</td>\n",
       "      <td>1</td>\n",
       "      <td>1</td>\n",
       "      <td>2016-04-27 00:04:09</td>\n",
       "    </tr>\n",
       "  </tbody>\n",
       "</table>\n",
       "</div>"
      ],
      "text/plain": [
       "             id                        teacher_id teacher_prefix school_state  \\\n",
       "128730  p146022  f91a89d2b72a0f5ee14cd98bd8741fc2            Ms.           CA   \n",
       "173035  p244738  64ef8a335f7206366c52c39f5bfd09b7            Ms.           TX   \n",
       "\n",
       "       project_grade_category           project_subject_categories  \\\n",
       "128730             Grades 6-8                       Math & Science   \n",
       "173035          Grades PreK-2  Literacy & Language, Math & Science   \n",
       "\n",
       "         project_subject_subcategories  \\\n",
       "128730                Applied Sciences   \n",
       "173035  Foreign Languages, Mathematics   \n",
       "\n",
       "                                 project_title  \\\n",
       "128730                Robotics and Programming   \n",
       "173035  Help Us Finish Our 1st Year In School!   \n",
       "\n",
       "                                          project_essay_1  \\\n",
       "128730  I love giving my students experiences. A new e...   \n",
       "173035  We are getting closer to the end of the year, ...   \n",
       "\n",
       "                                          project_essay_2  \\\n",
       "128730  My students can vary quite dramatically. I hav...   \n",
       "173035  Welcome to our Pre-K classroom. We work hard e...   \n",
       "\n",
       "                                          project_essay_3  \\\n",
       "128730  The student will use the Sparki Robots to lear...   \n",
       "173035  This time, I am asking to improve three differ...   \n",
       "\n",
       "                                          project_essay_4  \\\n",
       "128730  The Sparki robots would add a motivation for t...   \n",
       "173035  This project will have a huge impact on my stu...   \n",
       "\n",
       "                                 project_resource_summary  \\\n",
       "128730  My students need four Sparki robots to help st...   \n",
       "173035  My students need Linking Letter Monkeys and Sp...   \n",
       "\n",
       "        teacher_number_of_previously_posted_projects  project_is_approved  \\\n",
       "128730                                            30                    1   \n",
       "173035                                             1                    1   \n",
       "\n",
       "                      Date  \n",
       "128730 2016-04-27 00:03:38  \n",
       "173035 2016-04-27 00:04:09  "
      ]
     },
     "execution_count": 3,
     "metadata": {},
     "output_type": "execute_result"
    }
   ],
   "source": [
    "# here the code is chainging the date and time format used in the data to a standard form  and replacing the data with the new format and \n",
    "# replacing the same coloum  refrence to same are given below\n",
    "\n",
    "Project_data[\"Date\"] = pd.to_datetime(Project_data[\"project_submitted_datetime\"])\n",
    "Project_data.drop(\"project_submitted_datetime\",axis=1,inplace = True )\n",
    "Project_data.sort_values(by=[\"Date\"],inplace=True)\n",
    "Project_data.head(2)"
   ]
  },
  {
   "cell_type": "code",
   "execution_count": 4,
   "metadata": {},
   "outputs": [
    {
     "name": "stdout",
     "output_type": "stream",
     "text": [
      "The number of NAN values in teacher_prefix Column is 0\n"
     ]
    }
   ],
   "source": [
    "#find out the NAN values in the dataframe and fill with null\n",
    "\n",
    "Project_data[\"teacher_prefix\"] = Project_data[\"teacher_prefix\"].fillna(\"null\")\n",
    "print(\"The number of NAN values in teacher_prefix Column is \" + str(Project_data[\"teacher_prefix\"].isnull().sum()))"
   ]
  },
  {
   "cell_type": "code",
   "execution_count": 5,
   "metadata": {},
   "outputs": [
    {
     "name": "stdout",
     "output_type": "stream",
     "text": [
      "The Worlds in sorted_cat_dict {'warmth': 2327, 'care_hunger': 2327, 'history_civics': 9726, 'music_arts': 17054, 'appliedlearning': 20303, 'specialneeds': 22881, 'health_sports': 23712, 'math_science': 69248, 'literacy_language': 86988}\n"
     ]
    }
   ],
   "source": [
    "# remove special characters from list of strings python: https://stackoverflow.com/a/47301924/4084039\n",
    "\n",
    "catogories = list(Project_data['project_subject_categories'].values)\n",
    "cat_list = []\n",
    "for i in catogories:\n",
    "    temp = \"\"\n",
    "    for j in i.split(','):\n",
    "        if 'The' in j.split():\n",
    "            j=j.replace('The','')\n",
    "        j = j.replace(' ','')\n",
    "        temp+=j.strip()+\" \"\n",
    "        temp = temp.replace('&','_') \n",
    "    cat_list.append(temp.strip().lower())\n",
    "    \n",
    "Project_data['clean_categories'] = cat_list\n",
    "Project_data.drop(['project_subject_categories'], axis=1, inplace=True)\n",
    "\n",
    "from collections import Counter\n",
    "my_counter = Counter()\n",
    "for word in Project_data['clean_categories'].values:\n",
    "    my_counter.update(word.split())\n",
    "\n",
    "cat_dict = dict(my_counter)\n",
    "sorted_cat_dict = dict(sorted(cat_dict.items(), key=lambda kv: kv[1]))\n",
    "print(\"The Worlds in sorted_cat_dict\",sorted_cat_dict)"
   ]
  },
  {
   "cell_type": "code",
   "execution_count": 6,
   "metadata": {},
   "outputs": [
    {
     "name": "stdout",
     "output_type": "stream",
     "text": [
      "The Worlds in sorted_cat_dict1 {'economics': 431, 'communityservice': 712, 'financialliteracy': 956, 'parentinvolvement': 1103, 'civics_government': 1294, 'extracurricular': 1332, 'foreignlanguages': 1496, 'nutritioneducation': 2236, 'warmth': 2327, 'care_hunger': 2327, 'socialsciences': 3149, 'performingarts': 3223, 'charactereducation': 3519, 'teamsports': 3643, 'other': 3948, 'college_careerprep': 4291, 'music': 5172, 'history_geography': 5258, 'earlydevelopment': 7149, 'esl': 7162, 'health_lifescience': 7175, 'gym_fitness': 7592, 'environmentalscience': 9436, 'visualarts': 10399, 'health_wellness': 17099, 'appliedsciences': 17966, 'specialneeds': 22881, 'literature_writing': 36974, 'mathematics': 46884, 'literacy': 56066}\n",
      "economics 431\n",
      "communityservice 712\n",
      "financialliteracy 956\n",
      "parentinvolvement 1103\n",
      "civics_government 1294\n",
      "extracurricular 1332\n",
      "foreignlanguages 1496\n",
      "nutritioneducation 2236\n",
      "warmth 2327\n",
      "care_hunger 2327\n",
      "socialsciences 3149\n",
      "performingarts 3223\n",
      "charactereducation 3519\n",
      "teamsports 3643\n",
      "other 3948\n",
      "college_careerprep 4291\n",
      "music 5172\n",
      "history_geography 5258\n",
      "earlydevelopment 7149\n",
      "esl 7162\n",
      "health_lifescience 7175\n",
      "gym_fitness 7592\n",
      "environmentalscience 9436\n",
      "visualarts 10399\n",
      "health_wellness 17099\n",
      "appliedsciences 17966\n",
      "specialneeds 22881\n",
      "literature_writing 36974\n",
      "mathematics 46884\n",
      "literacy 56066\n"
     ]
    }
   ],
   "source": [
    "catogories1 = list(Project_data['project_subject_subcategories'].values)\n",
    "cat_list1 = []\n",
    "for i in catogories1:\n",
    "    temp1 = \"\"\n",
    "    for j in i.split(','): \n",
    "        if 'The' in j.split():\n",
    "            j=j.replace('The','')\n",
    "        j = j.replace(' ','') \n",
    "        temp1+=j.strip()+\" \" \n",
    "        temp1 = temp1.replace('&','_') \n",
    "    cat_list1.append(temp1.strip().lower())\n",
    "    \n",
    "Project_data['clean_sub_categories'] = cat_list1\n",
    "Project_data.drop(['project_subject_subcategories'], axis=1, inplace=True)\n",
    "\n",
    "from collections import Counter\n",
    "my_counter1 = Counter()\n",
    "for word in Project_data['clean_sub_categories'].values:\n",
    "    my_counter1.update(word.split())\n",
    "\n",
    "cat_dict1 = dict(my_counter1)\n",
    "sorted_cat_dict1 = dict(sorted(cat_dict1.items(), key=lambda kv: kv[1]))\n",
    "print(\"The Worlds in sorted_cat_dict1\",sorted_cat_dict1)\n",
    "for i in sorted_cat_dict1:\n",
    "    print(i,sorted_cat_dict1[i]) "
   ]
  },
  {
   "cell_type": "code",
   "execution_count": 7,
   "metadata": {},
   "outputs": [
    {
     "name": "stdout",
     "output_type": "stream",
     "text": [
      "The Values in sorted_school_state_dict :  {'vt': 139, 'wy': 177, 'nd': 248, 'mt': 384, 'ri': 475, 'ne': 493, 'sd': 494, 'ak': 557, 'nh': 587, 'de': 589, 'me': 827, 'wv': 839, 'hi': 869, 'dc': 902, 'nm': 916, 'ks': 1060, 'ia': 1079, 'id': 1113, 'ar': 1757, 'co': 1887, 'mn': 2055, 'or': 2119, 'ky': 2172, 'ms': 2222, 'nv': 2297, 'md': 2480, 'ct': 2766, 'ut': 2814, 'tn': 2836, 'al': 2955, 'wi': 2983, 'va': 3446, 'az': 3614, 'nj': 3671, 'ok': 3829, 'wa': 3903, 'la': 3946, 'ma': 4054, 'oh': 4139, 'mo': 4247, 'in': 4314, 'pa': 5093, 'mi': 5324, 'sc': 6463, 'ga': 6636, 'il': 7332, 'nc': 8463, 'fl': 10359, 'ny': 12157, 'tx': 12304, 'ca': 25695}\n"
     ]
    }
   ],
   "source": [
    "school_state = list(Project_data['school_state'].values)\n",
    "school_state_list = []\n",
    "for i in school_state:\n",
    "    temp2 = \"\"\n",
    "    for j in i.split(','):\n",
    "        if 'The' in j.split():\n",
    "            j=j.replace('The','') \n",
    "        j = j.replace(' ','') \n",
    "        temp2 +=j.strip()+\" \"\n",
    "        temp2 = temp2.replace('&','_')\n",
    "    school_state_list.append(temp2.strip().lower())\n",
    "\n",
    "Project_data['School_state'] = school_state_list\n",
    "Project_data.drop(['school_state'], axis=1, inplace=True)\n",
    "\n",
    "my_counter3 = Counter()\n",
    "for word in Project_data['School_state'].values:\n",
    "    my_counter3.update(word.split())\n",
    "    \n",
    "school_state_dict = dict(my_counter3)\n",
    "sorted_school_state_dict = dict(sorted(school_state_dict.items(), key=lambda kv: kv[1]))\n",
    "print(\"The Values in sorted_school_state_dict : \", sorted_school_state_dict)"
   ]
  },
  {
   "cell_type": "code",
   "execution_count": 8,
   "metadata": {},
   "outputs": [],
   "source": [
    "# merge two column text dataframe: \n",
    "\n",
    "\n",
    "Project_data[\"essay\"] =Project_data[\"project_essay_1\"].map(str) +\\\n",
    "                        Project_data[\"project_essay_2\"].map(str) +\\\n",
    "                        Project_data[\"project_essay_3\"].map(str) +\\\n",
    "                        Project_data[\"project_essay_4\"].map(str)"
   ]
  },
  {
   "cell_type": "code",
   "execution_count": 9,
   "metadata": {},
   "outputs": [],
   "source": [
    "import re\n",
    "\n",
    "def decontracted(phrase):\n",
    "    \n",
    "    phrase = re.sub(r\"won't\", \"will not\", phrase)\n",
    "    phrase = re.sub(r\"can\\'t\", \"can not\", phrase)\n",
    "\n",
    "    \n",
    "    phrase = re.sub(r\"n\\'t\", \" not\", phrase)\n",
    "    phrase = re.sub(r\"\\'re\", \" are\", phrase)\n",
    "    phrase = re.sub(r\"\\'s\", \" is\", phrase)\n",
    "    phrase = re.sub(r\"\\'d\", \" would\", phrase)\n",
    "    phrase = re.sub(r\"\\'ll\", \" will\", phrase)\n",
    "    phrase = re.sub(r\"\\'t\", \" not\", phrase)\n",
    "    phrase = re.sub(r\"\\'ve\", \" have\", phrase)\n",
    "    phrase = re.sub(r\"\\'m\", \" am\", phrase)\n",
    "    return phrase"
   ]
  },
  {
   "cell_type": "code",
   "execution_count": 10,
   "metadata": {},
   "outputs": [],
   "source": [
    "# we are removing the words from the stop words list: 'no', 'nor', 'not'\n",
    "\n",
    "\n",
    "stopwords= ['i', 'me', 'my', 'myself', 'we', 'our', 'ours', 'ourselves', 'you', \"you're\", \"you've\",\\\n",
    "            \"you'll\", \"you'd\", 'your', 'yours', 'yourself', 'yourselves', 'he', 'him', 'his', 'himself', \\\n",
    "            'she', \"she's\", 'her', 'hers', 'herself', 'it', \"it's\", 'its', 'itself', 'they', 'them', 'their',\\\n",
    "            'theirs', 'themselves', 'what', 'which', 'who', 'whom', 'this', 'that', \"that'll\", 'these', 'those', \\\n",
    "            'am', 'is', 'are', 'was', 'were', 'be', 'been', 'being', 'have', 'has', 'had', 'having', 'do', 'does', \\\n",
    "            'did', 'doing', 'a', 'an', 'the', 'and', 'but', 'if', 'or', 'because', 'as', 'until', 'while', 'of', \\\n",
    "            'at', 'by', 'for', 'with', 'about', 'against', 'between', 'into', 'through', 'during', 'before', 'after',\\\n",
    "            'above', 'below', 'to', 'from', 'up', 'down', 'in', 'out', 'on', 'off', 'over', 'under', 'again', 'further',\\\n",
    "            'then', 'once', 'here', 'there', 'when', 'where', 'why', 'how', 'all', 'any', 'both', 'each', 'few', 'more',\\\n",
    "            'most', 'other', 'some', 'such', 'only', 'own', 'same', 'so', 'than', 'too', 'very', \\\n",
    "            's', 't', 'can', 'will', 'just', 'don', \"don't\", 'should', \"should've\", 'now', 'd', 'll', 'm', 'o', 're', \\\n",
    "            've', 'y', 'ain', 'aren', \"aren't\", 'couldn', \"couldn't\", 'didn', \"didn't\", 'doesn', \"doesn't\", 'hadn',\\\n",
    "            \"hadn't\", 'hasn', \"hasn't\", 'haven', \"haven't\", 'isn', \"isn't\", 'ma', 'mightn', \"mightn't\", 'mustn',\\\n",
    "            \"mustn't\", 'needn', \"needn't\", 'shan', \"shan't\", 'shouldn', \"shouldn't\", 'wasn', \"wasn't\", 'weren', \"weren't\", \\\n",
    "            'won', \"won't\", 'wouldn', \"wouldn't\"]"
   ]
  },
  {
   "cell_type": "code",
   "execution_count": 11,
   "metadata": {},
   "outputs": [
    {
     "name": "stderr",
     "output_type": "stream",
     "text": [
      "100%|████████████████████████████████| 182080/182080 [02:33<00:00, 1183.12it/s]\n"
     ]
    }
   ],
   "source": [
    "# Combining all the above stundents \n",
    "\n",
    "\n",
    "from tqdm import tqdm\n",
    "preprocessed_essays = []\n",
    "\n",
    "for sentance in tqdm(Project_data['essay'].values):\n",
    "    sent = decontracted(sentance)\n",
    "    sent = sent.replace('\\\\r', ' ')\n",
    "    sent = sent.replace('\\\\\"', ' ')\n",
    "    sent = sent.replace('\\\\n', ' ')\n",
    "    sent = re.sub('[^A-Za-z0-9]+', ' ', sent)\n",
    "    \n",
    "    sent = ' '.join(e for e in sent.split() if e.lower() not in stopwords)\n",
    "    preprocessed_essays.append(sent.lower().strip())"
   ]
  },
  {
   "cell_type": "code",
   "execution_count": 12,
   "metadata": {},
   "outputs": [
    {
     "name": "stderr",
     "output_type": "stream",
     "text": [
      "100%|███████████████████████████████| 182080/182080 [00:06<00:00, 26058.33it/s]\n"
     ]
    }
   ],
   "source": [
    "from tqdm import tqdm\n",
    "preprocessed_titles = []\n",
    "\n",
    "for sentence in tqdm(Project_data['project_title'].values):\n",
    "    sent = decontracted(sentence)\n",
    "    sent = sent.replace('\\\\r', ' ')\n",
    "    sent = sent.replace('\\\\\"', ' ')\n",
    "    sent = sent.replace('\\\\n', ' ')\n",
    "    sent = re.sub('[^A-Za-z0-9]+', ' ', sent)\n",
    "    \n",
    "    sent = ' '.join(e for e in sent.split() if e not in stopwords)\n",
    "    preprocessed_titles.append(sent.lower().strip())"
   ]
  },
  {
   "cell_type": "code",
   "execution_count": 13,
   "metadata": {},
   "outputs": [],
   "source": [
    "Project_data[\"clean_titles\"] = preprocessed_titles\n",
    "Project_data.drop([\"project_essay_1\"],axis=1,inplace=True)\n",
    "Project_data.drop([\"project_essay_2\"],axis=1,inplace=True)\n",
    "Project_data.drop([\"project_essay_3\"],axis=1,inplace=True)\n",
    "Project_data.drop([\"project_essay_4\"],axis=1,inplace=True)\n",
    "Project_data.drop([\"project_title\"],axis=1,inplace=True)"
   ]
  },
  {
   "cell_type": "code",
   "execution_count": 14,
   "metadata": {},
   "outputs": [
    {
     "name": "stdout",
     "output_type": "stream",
     "text": [
      "Project_data Columns are - >>>  Index(['id', 'teacher_id', 'teacher_prefix', 'project_grade_category',\n",
      "       'project_resource_summary',\n",
      "       'teacher_number_of_previously_posted_projects', 'project_is_approved',\n",
      "       'Date', 'clean_categories', 'clean_sub_categories', 'School_state',\n",
      "       'essay', 'clean_titles'],\n",
      "      dtype='object') Resources_data Columns   Index(['id', 'description', 'quantity', 'price'], dtype='object')\n"
     ]
    }
   ],
   "source": [
    "print(\"Project_data Columns are - >>> \" , Project_data.columns ,\"Resources_data Columns  \", Resources_data.columns)"
   ]
  },
  {
   "cell_type": "code",
   "execution_count": 15,
   "metadata": {},
   "outputs": [
    {
     "data": {
      "text/html": [
       "<div>\n",
       "<style scoped>\n",
       "    .dataframe tbody tr th:only-of-type {\n",
       "        vertical-align: middle;\n",
       "    }\n",
       "\n",
       "    .dataframe tbody tr th {\n",
       "        vertical-align: top;\n",
       "    }\n",
       "\n",
       "    .dataframe thead th {\n",
       "        text-align: right;\n",
       "    }\n",
       "</style>\n",
       "<table border=\"1\" class=\"dataframe\">\n",
       "  <thead>\n",
       "    <tr style=\"text-align: right;\">\n",
       "      <th></th>\n",
       "      <th>id</th>\n",
       "      <th>price</th>\n",
       "      <th>quantity</th>\n",
       "    </tr>\n",
       "  </thead>\n",
       "  <tbody>\n",
       "    <tr>\n",
       "      <th>0</th>\n",
       "      <td>p000001</td>\n",
       "      <td>459.56</td>\n",
       "      <td>7</td>\n",
       "    </tr>\n",
       "    <tr>\n",
       "      <th>1</th>\n",
       "      <td>p000002</td>\n",
       "      <td>515.89</td>\n",
       "      <td>21</td>\n",
       "    </tr>\n",
       "  </tbody>\n",
       "</table>\n",
       "</div>"
      ],
      "text/plain": [
       "        id   price  quantity\n",
       "0  p000001  459.56         7\n",
       "1  p000002  515.89        21"
      ]
     },
     "execution_count": 15,
     "metadata": {},
     "output_type": "execute_result"
    }
   ],
   "source": [
    "Price_data = Resources_data.groupby(\"id\").agg({\"price\": \"sum\" ,\"quantity\" : \"sum\"}).reset_index()\n",
    "Price_data.head(2)"
   ]
  },
  {
   "cell_type": "code",
   "execution_count": 16,
   "metadata": {},
   "outputs": [
    {
     "name": "stdout",
     "output_type": "stream",
     "text": [
      "The Number of NAN values in PRoject_data :  id                                              0\n",
      "teacher_id                                      0\n",
      "teacher_prefix                                  0\n",
      "project_grade_category                          0\n",
      "project_resource_summary                        0\n",
      "teacher_number_of_previously_posted_projects    0\n",
      "project_is_approved                             0\n",
      "Date                                            0\n",
      "clean_categories                                0\n",
      "clean_sub_categories                            0\n",
      "School_state                                    0\n",
      "essay                                           0\n",
      "clean_titles                                    0\n",
      "price                                           0\n",
      "quantity                                        0\n",
      "dtype: int64\n"
     ]
    }
   ],
   "source": [
    "Project_data = pd.merge(Project_data,Price_data,on=\"id\",how = \"left\")\n",
    "print(\"The Number of NAN values in PRoject_data : \",Project_data.isnull().sum())"
   ]
  },
  {
   "cell_type": "code",
   "execution_count": 17,
   "metadata": {},
   "outputs": [
    {
     "name": "stdout",
     "output_type": "stream",
     "text": [
      "Index(['id', 'teacher_id', 'teacher_prefix', 'project_grade_category',\n",
      "       'project_resource_summary',\n",
      "       'teacher_number_of_previously_posted_projects', 'Date',\n",
      "       'clean_categories', 'clean_sub_categories', 'School_state', 'essay',\n",
      "       'clean_titles', 'price', 'quantity'],\n",
      "      dtype='object')\n",
      "(182080, 15)\n"
     ]
    }
   ],
   "source": [
    "# Project_data = Project_data.head(50000)\n",
    "\n",
    "Y = Project_data[\"project_is_approved\"].values\n",
    "X = Project_data.drop([\"project_is_approved\"],axis = 1)\n",
    "print(X.columns)\n",
    "print(Project_data.shape)"
   ]
  },
  {
   "cell_type": "code",
   "execution_count": 18,
   "metadata": {},
   "outputs": [],
   "source": [
    "#Splitting the data into train and test data_set\n",
    "\n",
    "from sklearn.model_selection import train_test_split\n",
    "X_train, X_test, Y_train, Y_test = train_test_split(X, Y, test_size=0.33, stratify= Project_data['project_is_approved'],random_state=0)\n",
    "X_train, X_cv, Y_train, Y_cv = train_test_split(X_train, Y_train, test_size=0.33, stratify=Y_train)"
   ]
  },
  {
   "cell_type": "code",
   "execution_count": 19,
   "metadata": {},
   "outputs": [
    {
     "name": "stdout",
     "output_type": "stream",
     "text": [
      "Resampled dataset shape Counter({0: 15227, 1: 15227})\n",
      "Capitial X represents the original train_data and lower case x represnts the ramdonly over-sampled data\n"
     ]
    }
   ],
   "source": [
    "from imblearn.over_sampling import RandomOverSampler\n",
    "from collections import Counter\n",
    "import warnings\n",
    "warnings.filterwarnings(\"ignore\")\n",
    "\n",
    "ros = RandomOverSampler(sampling_strategy='minority',random_state=42)\n",
    "x_train, y_train = ros.fit_resample(X_train, Y_train)\n",
    "print('Resampled dataset shape %s' % Counter(y_train))\n",
    "print(\"Capitial\" ,\"X\",\"represents the original train_data and lower case\" ,\"x\", \"represnts the ramdonly over-sampled data\")"
   ]
  },
  {
   "cell_type": "code",
   "execution_count": 20,
   "metadata": {},
   "outputs": [
    {
     "data": {
      "text/plain": [
       "(30454, 14)"
      ]
     },
     "execution_count": 20,
     "metadata": {},
     "output_type": "execute_result"
    }
   ],
   "source": [
    "x_train = pd.DataFrame(x_train,columns = X.columns)\n",
    "x_train.shape"
   ]
  },
  {
   "cell_type": "code",
   "execution_count": 21,
   "metadata": {},
   "outputs": [
    {
     "name": "stdout",
     "output_type": "stream",
     "text": [
      "Shape of Train data  (30454, 14) (30454,)\n",
      "====================================================================================================\n",
      "Shape of Train CV  data  (10490, 14) (10490,)\n",
      "====================================================================================================\n",
      "Shape of Test data  (787, 14) (787,)\n",
      "====================================================================================================\n"
     ]
    }
   ],
   "source": [
    "print(\"Shape of Train data \",x_train.shape, y_train.shape)\n",
    "print(\"=\"*100)\n",
    "print(\"Shape of Train CV  data \",X_cv.shape, Y_cv.shape)\n",
    "print(\"=\"*100)\n",
    "print(\"Shape of Test data \",X_test.shape, Y_test.shape)\n",
    "print(\"=\"*100)"
   ]
  },
  {
   "cell_type": "code",
   "execution_count": 22,
   "metadata": {},
   "outputs": [
    {
     "name": "stdout",
     "output_type": "stream",
     "text": [
      "After vectorizations of the clean_sub_categories , One-hot-encoding shape of the data is\n",
      "Shape of Train data  (30454, 30) (30454,)\n",
      "Shape of Train CV  data  (10490, 30) (10490,)\n",
      "Shape of Test data  (787, 30) (787,)\n"
     ]
    }
   ],
   "source": [
    "# we use the fitted CountVectorizer to convert the text to vector\n",
    "\n",
    "vectorizer1 = CountVectorizer()\n",
    "vectorizer1.fit(x_train['clean_sub_categories']) \n",
    "\n",
    "x_train_clean_subcat_ohe = vectorizer1.transform(x_train['clean_sub_categories'])\n",
    "X_cv_clean_subcat_ohe = vectorizer1.transform(X_cv['clean_sub_categories'])\n",
    "X_test_clean_subcat_ohe = vectorizer1.transform(X_test['clean_sub_categories'])\n",
    "\n",
    "print(\"After vectorizations of the clean_sub_categories , One-hot-encoding shape of the data is\")\n",
    "print(\"Shape of Train data \",x_train_clean_subcat_ohe.shape, y_train.shape)\n",
    "print(\"Shape of Train CV  data \",X_cv_clean_subcat_ohe.shape, Y_cv.shape)\n",
    "print(\"Shape of Test data \" ,X_test_clean_subcat_ohe.shape, Y_test.shape)"
   ]
  },
  {
   "cell_type": "code",
   "execution_count": 23,
   "metadata": {},
   "outputs": [
    {
     "name": "stdout",
     "output_type": "stream",
     "text": [
      "After vectorizations of the clean_categories, One-hot-encoding shape of the data is\n",
      "Shape of Train data  (30454, 9) (30454,)\n",
      "Shape of Train CV  data  (10490, 9) (10490,)\n",
      "Shape of Test data  (787, 9) (787,)\n"
     ]
    }
   ],
   "source": [
    "# we use the fitted CountVectorizer to convert the text to vector\n",
    "\n",
    "vectorizer2 = CountVectorizer()\n",
    "vectorizer2.fit(x_train['clean_categories']) \n",
    "\n",
    "\n",
    "\n",
    "x_train_clean_categories_ohe = vectorizer2.transform(x_train['clean_categories'])\n",
    "X_cv_clean_categories_ohe = vectorizer2.transform(X_cv['clean_categories'])\n",
    "X_test_clean_categories_ohe = vectorizer2.transform(X_test['clean_categories'])\n",
    "\n",
    "print(\"After vectorizations of the clean_categories, One-hot-encoding shape of the data is\")\n",
    "print(\"Shape of Train data \",x_train_clean_categories_ohe.shape, y_train.shape)\n",
    "print(\"Shape of Train CV  data \",X_cv_clean_categories_ohe.shape, Y_cv.shape)\n",
    "print(\"Shape of Test data \" ,X_test_clean_categories_ohe.shape, Y_test.shape)"
   ]
  },
  {
   "cell_type": "code",
   "execution_count": 24,
   "metadata": {},
   "outputs": [
    {
     "name": "stdout",
     "output_type": "stream",
     "text": [
      "After vectorizations of the teacher_prefix , One-hot-encoding shape of the data is\n",
      "Shape of Train data  (30454, 5) (30454,)\n",
      "Shape of Train CV  data  (10490, 5) (10490,)\n",
      "Shape of Test data  (787, 5) (787,)\n"
     ]
    }
   ],
   "source": [
    "# we use the fitted CountVectorizer to convert the text to vector\n",
    "\n",
    "vectorizer3 = CountVectorizer()\n",
    "vectorizer3.fit(x_train['teacher_prefix'].values.astype('U')) \n",
    "\n",
    "\n",
    "x_train_teacher_ohe = vectorizer3.transform(x_train['teacher_prefix'].values.astype('U'))\n",
    "X_cv_teacher_ohe = vectorizer3.transform(X_cv['teacher_prefix'].values.astype('U'))\n",
    "X_test_teacher_ohe = vectorizer3.transform(X_test['teacher_prefix'].values.astype('U'))\n",
    "\n",
    "print(\"After vectorizations of the teacher_prefix , One-hot-encoding shape of the data is\")\n",
    "print(\"Shape of Train data \",x_train_teacher_ohe.shape, y_train.shape)\n",
    "print(\"Shape of Train CV  data \",X_cv_teacher_ohe.shape, Y_cv.shape)\n",
    "print(\"Shape of Test data \" ,X_test_teacher_ohe.shape, Y_test.shape)\n"
   ]
  },
  {
   "cell_type": "code",
   "execution_count": 29,
   "metadata": {},
   "outputs": [
    {
     "name": "stdout",
     "output_type": "stream",
     "text": [
      "After vectorizations of the School_state , One-hot-encoding shape of the data is\n",
      "Shape of Train data  (30454, 51) (30454,)\n",
      "Shape of Train CV  data  (10490, 51) (10490,)\n",
      "Shape of Test data  (787, 51) (787,)\n"
     ]
    }
   ],
   "source": [
    "# we use the fitted CountVectorizer to convert the text to vector\n",
    "\n",
    "vectorizer4 = CountVectorizer()\n",
    "vectorizer4.fit(x_train['School_state'].values) \n",
    "\n",
    "\n",
    "x_train_state_ohe = vectorizer4.transform(x_train['School_state'].values)\n",
    "X_cv_state_ohe = vectorizer4.transform(X_cv['School_state'].values)\n",
    "X_test_state_ohe = vectorizer4.transform(X_test['School_state'].values)\n",
    "\n",
    "print(\"After vectorizations of the School_state , One-hot-encoding shape of the data is\")\n",
    "print(\"Shape of Train data \",x_train_state_ohe.shape, y_train.shape)\n",
    "print(\"Shape of Train CV  data \",X_cv_state_ohe.shape, Y_cv.shape)\n",
    "print(\"Shape of Test data \" ,X_test_state_ohe.shape, Y_test.shape)"
   ]
  },
  {
   "cell_type": "code",
   "execution_count": 30,
   "metadata": {},
   "outputs": [
    {
     "name": "stdout",
     "output_type": "stream",
     "text": [
      "{'grades_9_12': 2240, 'grades_6_8': 3422, 'grades_3_5': 6968, 'grades_prek_2': 8666}\n"
     ]
    }
   ],
   "source": [
    "grade_cat_list = []\n",
    "for grade in X_train['project_grade_category'].values:\n",
    "    grade = grade.replace(\"-\",\"_\").lower()\n",
    "    grade = grade.replace(\" \",\"_\").lower()\n",
    "    grade_cat_list.append(grade)\n",
    "\n",
    "\n",
    "X_train['clean_grade'] = grade_cat_list\n",
    "X_train.drop(['project_grade_category'], axis=1, inplace=True)\n",
    "\n",
    "my_counter = Counter()\n",
    "for word in X_train['clean_grade'].values:\n",
    "     my_counter.update(word.split())\n",
    "project_grade_category_dict= dict(my_counter)\n",
    "sorted_project_grade_category_dict = dict(sorted(project_grade_category_dict.items(), key=lambda kv: kv[1]))\n",
    "print(sorted_project_grade_category_dict)\n"
   ]
  },
  {
   "cell_type": "code",
   "execution_count": 31,
   "metadata": {},
   "outputs": [
    {
     "name": "stdout",
     "output_type": "stream",
     "text": [
      "After vectorizations of the project_grade_category , One-hot-encoding shape of the data is\n",
      "Shape of Train data  (30454, 4) (30454,)\n",
      "Shape of Train CV  data  (10490, 4) (10490,)\n",
      "Shape of Test data  (787, 4) (787,)\n"
     ]
    }
   ],
   "source": [
    "# we use the fitted CountVectorizer to convert the text to vector\n",
    "\n",
    "vectorizer5 = CountVectorizer(vocabulary=list(sorted_project_grade_category_dict.keys()), lowercase=False, binary=True)\n",
    "vectorizer5.fit(x_train['project_grade_category'].values) \n",
    "\n",
    "x_train_grade_ohe = vectorizer5.transform(x_train['project_grade_category'].values)\n",
    "X_cv_grade_ohe = vectorizer5.transform(X_cv['project_grade_category'].values)\n",
    "X_test_grade_ohe = vectorizer5.transform(X_test['project_grade_category'].values)\n",
    "\n",
    "print(\"After vectorizations of the project_grade_category , One-hot-encoding shape of the data is\")\n",
    "print(\"Shape of Train data \",x_train_grade_ohe.shape, y_train.shape)\n",
    "print(\"Shape of Train CV  data \",X_cv_grade_ohe.shape, Y_cv.shape)\n",
    "print(\"Shape of Test data \" ,X_test_grade_ohe.shape,Y_test.shape)"
   ]
  },
  {
   "cell_type": "code",
   "execution_count": 32,
   "metadata": {},
   "outputs": [
    {
     "name": "stdout",
     "output_type": "stream",
     "text": [
      "After vectorizations of the price data ,  shape of the data after standazing\n",
      "(30454, 1) (30454,)\n",
      "(10490, 1) (10490,)\n",
      "(787, 1) (787,)\n"
     ]
    }
   ],
   "source": [
    "from sklearn.preprocessing import Normalizer\n",
    "standard_vector1 = Normalizer()\n",
    "\n",
    "standard_vector1.fit(x_train['price'].values.reshape(-1,1))\n",
    "\n",
    "x_train_price_std = standard_vector1.transform(x_train['price'].values.reshape(-1,1))\n",
    "X_cv_price_std = standard_vector1.transform(X_cv['price'].values.reshape(-1,1))\n",
    "X_test_price_std = standard_vector1.transform(X_test['price'].values.reshape(-1,1))\n",
    "\n",
    "print(\"After vectorizations of the price data ,  shape of the data after standazing\")\n",
    "print(x_train_price_std.shape, y_train.shape)\n",
    "print(X_cv_price_std.shape, Y_cv.shape)\n",
    "print(X_test_price_std.shape, Y_test.shape)"
   ]
  },
  {
   "cell_type": "code",
   "execution_count": 33,
   "metadata": {},
   "outputs": [
    {
     "name": "stdout",
     "output_type": "stream",
     "text": [
      "After vectorizations of the teacher_number_of_previously_posted_projects , shape of the data after standazing\n",
      "(30454, 1) (30454,)\n",
      "(10490, 1) (10490,)\n",
      "(787, 1) (787,)\n"
     ]
    }
   ],
   "source": [
    "from sklearn.preprocessing import Normalizer\n",
    "standard_vector2 = Normalizer()\n",
    "\n",
    "standard_vector2.fit(x_train['teacher_number_of_previously_posted_projects'].values.reshape(-1,1))\n",
    "\n",
    "x_train_projects_std = standard_vector2.transform(x_train['teacher_number_of_previously_posted_projects'].values.reshape(-1,1))\n",
    "X_cv_projects_std = standard_vector2.transform(X_cv['teacher_number_of_previously_posted_projects'].values.reshape(-1,1))\n",
    "X_test_projects_std = standard_vector2.transform(X_test['teacher_number_of_previously_posted_projects'].values.reshape(-1,1))\n",
    "\n",
    "print(\"After vectorizations of the teacher_number_of_previously_posted_projects , shape of the data after standazing\")\n",
    "print(x_train_projects_std.shape, y_train.shape)\n",
    "print(X_cv_projects_std.shape,Y_cv.shape)\n",
    "print(X_test_projects_std.shape, Y_test.shape)"
   ]
  },
  {
   "cell_type": "code",
   "execution_count": 34,
   "metadata": {},
   "outputs": [
    {
     "name": "stdout",
     "output_type": "stream",
     "text": [
      "After vectorizations\n",
      "(30454, 1) (30454,)\n",
      "(10490, 1) (10490,)\n",
      "(787, 1) (787,)\n"
     ]
    }
   ],
   "source": [
    "from sklearn.preprocessing import Normalizer\n",
    "standard_vector3 = Normalizer()\n",
    "\n",
    "standard_vector3.fit(x_train['quantity'].values.reshape(-1,1))\n",
    "\n",
    "x_train_qty_std = standard_vector3.transform(x_train['quantity'].values.reshape(-1,1))\n",
    "X_cv_qty_std = standard_vector3.transform(X_cv['quantity'].values.reshape(-1,1))\n",
    "X_test_qty_std = standard_vector3.transform(X_test['quantity'].values.reshape(-1,1))\n",
    "\n",
    "print(\"After vectorizations\")\n",
    "print(x_train_qty_std.shape, y_train.shape)\n",
    "print(X_cv_qty_std.shape, Y_cv.shape)\n",
    "print(X_test_qty_std.shape, Y_test.shape)"
   ]
  },
  {
   "cell_type": "code",
   "execution_count": 36,
   "metadata": {},
   "outputs": [
    {
     "name": "stdout",
     "output_type": "stream",
     "text": [
      "After vectorizations of the clean_titles(Project Titles) data the shape of the data is\n",
      "Shape of the x_train data after Vectorization using BOW  (30454, 2644) (30454,)\n",
      "Shape of the X_cv data after Vectorization using BOW  (10490, 2644) (10490,)\n",
      "Shape of the X_test_ data after Vectorization using BOW  (787, 2644) (787,)\n"
     ]
    }
   ],
   "source": [
    "# we use the fitted CountVectorizer to convert the text to vector\n",
    "\n",
    "from sklearn.feature_extraction.text import CountVectorizer\n",
    "vectorizer7 = CountVectorizer(min_df=5,tokenizer = lambda x: x.split(), max_features=5000)\n",
    "vectorizer7.fit(x_train['clean_titles'].values) \n",
    "\n",
    "\n",
    "x_train_titles_bow = vectorizer7.transform(x_train['clean_titles'].values)\n",
    "X_cv_titles_bow = vectorizer7.transform(X_cv['clean_titles'].values)\n",
    "X_test_titles_bow = vectorizer7.transform(X_test['clean_titles'].values)\n",
    "\n",
    "print(\"After vectorizations of the clean_titles(Project Titles) data the shape of the data is\")\n",
    "print(\"Shape of the x_train data after Vectorization using BOW \" ,x_train_titles_bow.shape, y_train.shape)\n",
    "print(\"Shape of the X_cv data after Vectorization using BOW \" ,X_cv_titles_bow.shape, Y_cv.shape)\n",
    "print(\"Shape of the X_test_ data after Vectorization using BOW \" ,X_test_titles_bow.shape, Y_test.shape)"
   ]
  },
  {
   "cell_type": "code",
   "execution_count": 37,
   "metadata": {},
   "outputs": [
    {
     "name": "stdout",
     "output_type": "stream",
     "text": [
      "After vectorizations of the project_resource_summary data the shape of the data is\n",
      "Shape of the x_train data after Vectorization using BOW  (30454, 10000) (30454,)\n",
      "Shape of the X_cv data after Vectorization using BOW  (10490, 10000) (10490,)\n",
      "Shape of the X_test_ data after Vectorization using BOW  (787, 10000) (787,)\n",
      "****************************************************************************************************\n"
     ]
    }
   ],
   "source": [
    "# we use the fitted CountVectorizer to convert the text to vector\n",
    "\n",
    "from sklearn.feature_extraction.text import CountVectorizer\n",
    "vectorizer8 = CountVectorizer(min_df=5,tokenizer = lambda x: x.split(), max_features=10000,ngram_range=(1, 4))\n",
    "vectorizer8.fit(x_train['project_resource_summary']) \n",
    "\n",
    "\n",
    "x_train_summary_bow = vectorizer8.transform(x_train['project_resource_summary'])\n",
    "X_cv_summary_bow = vectorizer8.transform(X_cv['project_resource_summary'])\n",
    "X_test_summary_bow = vectorizer8.transform(X_test['project_resource_summary'])\n",
    "\n",
    "print(\"After vectorizations of the project_resource_summary data the shape of the data is\")\n",
    "print(\"Shape of the x_train data after Vectorization using BOW \" ,x_train_summary_bow.shape, y_train.shape)\n",
    "print(\"Shape of the X_cv data after Vectorization using BOW \" ,X_cv_summary_bow.shape, Y_cv.shape)\n",
    "print(\"Shape of the X_test_ data after Vectorization using BOW \" ,X_test_summary_bow.shape, Y_test.shape)\n",
    "print(\"*\"*100)"
   ]
  },
  {
   "cell_type": "code",
   "execution_count": 48,
   "metadata": {},
   "outputs": [
    {
     "name": "stdout",
     "output_type": "stream",
     "text": [
      "The final Data Matrix for Set:1  All the shapes of the data represent the merged features as mentioned in the tittle\n",
      "shape of X_train is :  (30454, 102)\n",
      "shape of X_Cross validation is : (10490, 2746)\n",
      "shape of X_test is  (787, 2746)\n"
     ]
    }
   ],
   "source": [
    "from scipy.sparse import hstack\n",
    "X1_tr = hstack((x_train_clean_categories_ohe,x_train_clean_subcat_ohe,x_train_teacher_ohe,x_train_state_ohe,\\\n",
    "                x_train_grade_ohe,x_train_price_std,x_train_projects_std,x_train_qty_std)).tocsr()\n",
    "X1_cv = hstack((X_cv_clean_categories_ohe,X_cv_clean_subcat_ohe,X_cv_teacher_ohe,X_cv_state_ohe,X_cv_grade_ohe,\\\n",
    "                X_cv_price_std,X_cv_projects_std,X_cv_qty_std,X_cv_titles_bow)).tocsr()\n",
    "X1_te =hstack((X_test_clean_categories_ohe,X_test_clean_subcat_ohe,X_test_teacher_ohe,X_test_state_ohe,\\\n",
    "               X_test_grade_ohe,X_test_titles_bow,X_test_price_std,X_test_projects_std,X_test_qty_std)).tocsr()\n",
    "\n",
    "\n",
    "print(\"The final Data Matrix for Set:1\" , \" All the shapes of the data represent the merged features as mentioned in the tittle\")\n",
    "print(\"shape of X_train is : \",            X1_tr.shape)\n",
    "print(\"shape of X_Cross validation is :\" , X1_cv.shape)\n",
    "print(\"shape of X_test is \",               X1_te.shape)"
   ]
  },
  {
   "cell_type": "code",
   "execution_count": 67,
   "metadata": {},
   "outputs": [
    {
     "name": "stdout",
     "output_type": "stream",
     "text": [
      "The Error Plot above shows the best Aplha value as : [1e-05, 0.0001, 0.001, 0.01, 0.1, 1, 10, 100, 1000]\n"
     ]
    }
   ],
   "source": [
    "alpha1= 100\n",
    "print(\"The Error Plot above shows the best Aplha value as :\" , alpha )"
   ]
  },
  {
   "cell_type": "code",
   "execution_count": 71,
   "metadata": {},
   "outputs": [],
   "source": [
    "def find_best_threshold(threshould, fpr, tpr):\n",
    "    t = threshould[np.argmax(tpr*(1-fpr))]\n",
    "    print(\"the maximum value of tpr*(1-fpr)\", np.round(max(tpr*(1-fpr)),3), \"for threshold\", np.round(t,3))\n",
    "    return t"
   ]
  },
  {
   "cell_type": "code",
   "execution_count": 72,
   "metadata": {},
   "outputs": [],
   "source": [
    "def predict_with_best_t(proba, threshould):\n",
    "    predictions = []\n",
    "    for i in proba:\n",
    "        if i>=threshould:\n",
    "            predictions.append(1)\n",
    "        else:\n",
    "            predictions.append(0)\n",
    "    return predictions"
   ]
  },
  {
   "cell_type": "code",
   "execution_count": 76,
   "metadata": {},
   "outputs": [
    {
     "data": {
      "text/plain": [
       "<matplotlib.axes._subplots.AxesSubplot at 0x13e85cd0>"
      ]
     },
     "execution_count": 76,
     "metadata": {},
     "output_type": "execute_result"
    },
    {
     "data": {
      "image/png": "[encoded data removed]",
      "text/plain": [
       "<Figure size 432x288 with 2 Axes>"
      ]
     },
     "metadata": {},
     "output_type": "display_data"
    }
   ],
   "source": [
    "import seaborn as sns\n",
    "sns.set(font_scale=1.4)#for label size\n",
    "sns.heatmap(Confusion_metrix_Train_data,annot=True, annot_kws={\"size\": 20},fmt =\"g\")"
   ]
  },
  {
   "cell_type": "code",
   "execution_count": 78,
   "metadata": {},
   "outputs": [
    {
     "name": "stdout",
     "output_type": "stream",
     "text": [
      "After TFIDF vectorizations of the clean_titles , shape of the data after standazing\n",
      "(30454, 1555) (30454,)\n",
      "(10490, 1555) (10490,)\n",
      "(787, 1555) (787,)\n",
      "****************************************************************************************************\n"
     ]
    }
   ],
   "source": [
    "# Applying TF-IDF on Prohect title :\n",
    "\n",
    "\n",
    "from sklearn.feature_extraction.text import TfidfVectorizer\n",
    "vectorizer9 = TfidfVectorizer(min_df=10)\n",
    "vectorizer9.fit(x_train[\"clean_titles\"].values)\n",
    "\n",
    "x_tain_project_titles_tfidf = vectorizer9.transform(x_train[\"clean_titles\"].values)\n",
    "X_cv_project_titles_tfidf = vectorizer9.transform(X_cv[\"clean_titles\"].values)\n",
    "X_test_project_titles_tfidf = vectorizer9.transform(X_test[\"clean_titles\"].values)\n",
    "\n",
    "\n",
    "print(\"After TFIDF vectorizations of the clean_titles , shape of the data after standazing\")\n",
    "print(x_tain_project_titles_tfidf.shape, y_train.shape)\n",
    "print(X_cv_project_titles_tfidf.shape,Y_cv.shape)\n",
    "print(X_test_project_titles_tfidf.shape, Y_test.shape)\n",
    "print(\"*\"*100)"
   ]
  },
  {
   "cell_type": "code",
   "execution_count": 83,
   "metadata": {},
   "outputs": [
    {
     "name": "stdout",
     "output_type": "stream",
     "text": [
      "The Error Plot above shows the best Aplha value as : 10\n"
     ]
    }
   ],
   "source": [
    "alpha= 10\n",
    "print(\"The Error Plot above shows the best Aplha value as :\" , alpha )"
   ]
  },
  {
   "cell_type": "code",
   "execution_count": 86,
   "metadata": {},
   "outputs": [
    {
     "name": "stdout",
     "output_type": "stream",
     "text": [
      "+------------+-------------------------+-----------------------+-----------+\n",
      "| Vectorizer |          Model          | Alpha:Hyper Parameter |  Test AUC |\n",
      "+------------+-------------------------+-----------------------+-----------+\n",
      "|    BOW     | Multinomial Naive Bayes |          0.01         |    0.55   |\n",
      "|   TFIDF    | Multinomial Naive Bayes |          0.01         |    0.68   |\n",
      "+------------+-------------------------+-----------------------+-----------+\n"
     ]
    }
   ],
   "source": [
    "#Conclusion--------------------------------------\n",
    "\n",
    "\n",
    "\n",
    "from prettytable import PrettyTable\n",
    "x = PrettyTable()\n",
    "x.field_names = [\"Vectorizer\", \"Model\", \"Alpha:Hyper Parameter\", \" Test AUC\"]\n",
    "x.add_row([\"BOW\", \"Multinomial Naive Bayes\", 0.01, 0.55])\n",
    "x.add_row([\"TFIDF\", \"Multinomial Naive Bayes\", 0.01, 0.68])\n",
    "print(x)"
   ]
  },
  {
   "cell_type": "code",
   "execution_count": null,
   "metadata": {},
   "outputs": [],
   "source": []
  }
 ],
 "metadata": {
  "kernelspec": {
   "display_name": "Python 3",
   "language": "python",
   "name": "python3"
  },
  "language_info": {
   "codemirror_mode": {
    "name": "ipython",
    "version": 3
   },
   "file_extension": ".py",
   "mimetype": "text/x-python",
   "name": "python",
   "nbconvert_exporter": "python",
   "pygments_lexer": "ipython3",
   "version": "3.8.3"
  }
 },
 "nbformat": 4,
 "nbformat_minor": 4
}
